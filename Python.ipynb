{
 "cells": [
  {
   "cell_type": "markdown",
   "metadata": {},
   "source": [
    "### SOLID Principles"
   ]
  },
  {
   "cell_type": "markdown",
   "metadata": {},
   "source": [
    "1. **Single Responsibility Principle**\n",
    "   \n",
    "   A class should have one and only one reason to change (don't pass booleans to change\n",
    "   the logic depending on the situation)\n",
    "\n",
    "\n",
    "2. **Open Closed Principle**\n",
    "   \n",
    "   You should be able to extend a class behaviour without modifying it (adding new \n",
    "   features without needing to modify the existing code)\n",
    "\n",
    "\n",
    "3. **Liskov Substitution Principle**\n",
    "  \n",
    "   Derived classes must be substitutable for their base classes  (child classes should\n",
    "   only be extending, not altering, the behaviour of their parent class)\n",
    "\n",
    "\n",
    "4. **Interface Segregation Principle**\n",
    "\n",
    "   Clients shouldn't be forced to depend on methods they don't use (have an abstraction\n",
    "   layer for flexibility in effecting changes that won't require changes in multiple \n",
    "   places)\n",
    "\n",
    "\n",
    "5. **Dependency Inversion Principle**\n",
    "   \n",
    "   High-level modules shouldn't depend upon low-level modules; both should depend upon\n",
    "   abstractions\n",
    "\n",
    "\n",
    "Check out the [PEP 8 guide](https://www.python.org/dev/peps/pep-0008/) to learn about standard style practices."
   ]
  },
  {
   "cell_type": "markdown",
   "metadata": {},
   "source": [
    "Log type | Code | Description\n",
    ":--- | :--- | :---\n",
    "NOTSET  |  0 |\n",
    "DEBUG\t|  10  |Detailed information, typically of interest only when diagnosing problems\n",
    "INFO\t | 20  |Confirmation that things are working as expected\n",
    "WARNING\t  |30  |An indication that something unexpected happened, or indicative of some problem in the near future (e.g. ‘disk space low’)\n",
    "ERROR    | 40 | Due to a more serious problem, the software has not been able to perform some function\n",
    "CRITICAL | 50 | A serious error, indicating that the program itself may be unable to continue running"
   ]
  },
  {
   "cell_type": "markdown",
   "metadata": {},
   "source": [
    "### Modules\n",
    "\n",
    "Modules consist of a set of functions which can be called upon by the source code (not\n",
    "instantiated) to extend its functionality. Frameworks mandate how your source code is \n",
    "structured and run (inversion of control).\n",
    "\n",
    "In Python:\n",
    "- any file ending in .py is a module\n",
    "- a package is a collection of modules, usually with an init.py\n",
    "- a library is a collection of various packages\n",
    "\n",
    "In Node.js:\n",
    "- a module/library is any file which can be loaded by require()\n",
    "- an app is a package, a collection of modules with a package.json\n",
    "\n",
    "An if block can prevent (certain) code from being run when the module is imported:"
   ]
  },
  {
   "cell_type": "code",
   "execution_count": null,
   "metadata": {},
   "outputs": [],
   "source": [
    "if __name__ == '__main__':\n",
    "    main()"
   ]
  },
  {
   "cell_type": "markdown",
   "metadata": {},
   "source": [
    "### Classes\n",
    "\n",
    "A class is an abstraction of an object. It describes the behaviour and state of the \n",
    "object its type supports using methods and variables. Methods are similar to functions\n",
    "but are called on an object and may alter that object's state.\n",
    "\n",
    "A class method takes in a class object as a parameter and will have access to it but\n",
    "not the class in which it is included in while a static method won't have access to its\n",
    "class nor to a class object instance. If you intend to use one of them, there's no need\n",
    "to instantiate their respective class."
   ]
  },
  {
   "cell_type": "code",
   "execution_count": null,
   "metadata": {},
   "outputs": [],
   "source": [
    "class Person:\n",
    "    data = {}  #static attribute\n",
    "\n",
    "    def __init__(self, name, age):  #instance variables are unique to every instance\n",
    "        self.name = name\n",
    "        self.age = age\n",
    "    \n",
    "    def __str__(self):   #string representation of an object\n",
    "        return \"{} is a {}\".format(self.name, self.breed)\n",
    "\n",
    "    def __del__(self):  #delete method\n",
    "        print(\"Dog record has been deleted\")\n",
    "\n",
    "    def employed(self):\n",
    "        self.data[\"eh\"] = self.age\n",
    "\n",
    "    def job(self):\n",
    "        self.data[\"ok\"] = \"chef\"\n",
    "\n",
    "    @classmethod\n",
    "    def prosciutto(cls):  #class method\n",
    "        return cls('ham')\n",
    "\n",
    "    @staticmethod\n",
    "    def _pizza_area(r):  # static method\n",
    "        return r ** 2 * math.pi\n",
    "\n",
    "    def main(self):\n",
    "        self.data[\"hi\"] = self.name\n",
    "        self.job()\n",
    "        self.employed()\n",
    "        print(self.data)\n",
    "\n",
    "class Employee(Person):  #class inheritence\n",
    "    def __init__(self, age, city):  #any fallback for inhereted attributes need to be reset\n",
    "        Person.__init__(self, age)  #specifies which base class attributes pass to derived class\n",
    "        self.age = 100\n",
    "        print(\"Passing attributes to new class\")\n",
    "\n",
    "print(Employee.data)  #calls inherited class variable\n",
    "\n",
    "p1 = Person(\"John\", 36)  #class object instance\n",
    "p1.main()  #calls class method\n",
    "\n",
    "del p1  #deletes object from memory code"
   ]
  },
  {
   "cell_type": "markdown",
   "metadata": {},
   "source": [
    "### Lambda functions"
   ]
  },
  {
   "cell_type": "markdown",
   "metadata": {},
   "source": [
    "Converting a function to a lambda:"
   ]
  },
  {
   "cell_type": "code",
   "execution_count": null,
   "metadata": {},
   "outputs": [],
   "source": [
    "def test_func(a, b):\n",
    "    return a * b\n",
    "\n",
    "x = lambda a, b: a * b\n",
    "print(x(5, 6)) "
   ]
  },
  {
   "cell_type": "markdown",
   "metadata": {},
   "source": [
    "A useful application of a lambda is as an anonymous function inside another function:"
   ]
  },
  {
   "cell_type": "code",
   "execution_count": null,
   "metadata": {},
   "outputs": [],
   "source": [
    "def myfunc(n):\n",
    "return lambda a: a * n \n",
    "\n",
    "mydoubler = myfunc(2)\n",
    "print(mydoubler(11))"
   ]
  },
  {
   "cell_type": "markdown",
   "metadata": {},
   "source": [
    "### Iterators and generators\n",
    "\n",
    "The `__iter__` method makes something iterable. What a for loop does in the background is\n",
    "calling `__iter__` on a list which returns an iterator that is then looped over until it\n",
    "hits the `StopIteration` exception. An iterator is an object which remembers its state \n",
    "during iteration and can get its next value using the `__next__` method.\n",
    "\n",
    "For more details: https://realpython.com/introduction-to-python-generators/"
   ]
  },
  {
   "cell_type": "code",
   "execution_count": null,
   "metadata": {},
   "outputs": [],
   "source": [
    "nums = [1, 2, 3]\n",
    "i_nums = nums.__iter__()\n",
    "while True:\n",
    "    try:\n",
    "        item = next(i_nums)\n",
    "    except StopIteration:\n",
    "        break"
   ]
  },
  {
   "cell_type": "markdown",
   "metadata": {},
   "source": [
    "Unlike `return` which terminates the function, `yield` will only pause execution until\n",
    "another value is required.\n",
    "\n",
    "Iterators are written using generators:"
   ]
  },
  {
   "cell_type": "code",
   "execution_count": null,
   "metadata": {},
   "outputs": [],
   "source": [
    "def multiple_gen(number, maximum):\n",
    "    counter = 1\n",
    "    value = number * counter\n",
    "\n",
    "    while value != maximum:\n",
    "        yield value  \n",
    "        counter += 1\n",
    "        value = number * counter\n",
    "\n",
    "for number in multiple_gen(463, 3000):\n",
    "    print(number)"
   ]
  },
  {
   "cell_type": "markdown",
   "metadata": {},
   "source": [
    "Opening files as follows uses a lazy generator of lines:\n",
    "\n",
    "    for line in open(filename):\n",
    "        process_data(line)"
   ]
  },
  {
   "cell_type": "markdown",
   "metadata": {},
   "source": [
    "### Decorators\n",
    "\n",
    "To view line-by-line memory usage once your script exits, put the `@profile` decorator \n",
    "around any function or method and run:\n",
    "    `python3 -m memory_profiler <file>`\n",
    "    \n",
    "First-class functions can be assigned to a variable, passed as a function argument and returned from a function:"
   ]
  },
  {
   "cell_type": "code",
   "execution_count": null,
   "metadata": {},
   "outputs": [],
   "source": [
    "def html_tag(tag):\n",
    "    def wrap_text(msg):\n",
    "        print(\"<{0}>{1}</{0}>\".format(tag, msg))\n",
    "    return wrap_text\n",
    "\n",
    "print_h1 = html_tag(\"h1\")\n",
    "print_h1(\"This is a headline\")"
   ]
  },
  {
   "cell_type": "markdown",
   "metadata": {},
   "source": [
    "A *higher-order function* can accept functions as arguments and also returns them. A *closure* is an inner function which remembers and has access to variables within the \n",
    "local scope that it was created in, even after execution of the outer function. A *decorator* is a function that takes in another function as an argument, adds some \n",
    "functionality and returns it, leaving the original function unaltered."
   ]
  },
  {
   "cell_type": "code",
   "execution_count": null,
   "metadata": {},
   "outputs": [],
   "source": [
    "def decorator_function(original_function):\n",
    "    def wrapper_function():\n",
    "        print(\"Executing before original function\")\n",
    "        return original_function()\n",
    "    return wrapper_function\n",
    "\n",
    "@decorator_function\n",
    "def display():\n",
    "    print(\"Hello Bob!\")\n",
    "\n",
    "# decorated_display = decorator_function(display)\n",
    "# decorated_input_date()\n",
    "\n",
    "display()"
   ]
  },
  {
   "cell_type": "markdown",
   "metadata": {},
   "source": [
    "### Logging"
   ]
  },
  {
   "cell_type": "code",
   "execution_count": null,
   "metadata": {},
   "outputs": [],
   "source": [
    "import logging\n",
    "import re\n",
    "import os"
   ]
  },
  {
   "cell_type": "markdown",
   "metadata": {},
   "source": [
    "#### Default logging method"
   ]
  },
  {
   "cell_type": "code",
   "execution_count": null,
   "metadata": {},
   "outputs": [],
   "source": [
    "logging.basicConfig(filename='app.log', filemode='a', format='%(levelname)s %(asctime)s - %(message)s', level=logging.DEBUG)  \n",
    "logger = logging.getLogger()  #creates logger object"
   ]
  },
  {
   "cell_type": "markdown",
   "metadata": {},
   "source": [
    "#### Custom logging method"
   ]
  },
  {
   "cell_type": "code",
   "execution_count": null,
   "metadata": {},
   "outputs": [],
   "source": [
    "def logger():\n",
    "    logger = logging.getLogger(__name__)  #creates logger object set to 0 but still excludes debug and error messages\n",
    "    logger.setLevel(logging.DEBUG)\n",
    "    formatter = logging.Formatter('%(levelname)s %(asctime)s - %(message)s')  #%(name)s logs filename when run as module, __main__ when run directly\n",
    "\n",
    "    print(logger.level)  #loggers only write messages with a level greater than or equal to the set level\n",
    "\n",
    "    current_file = os.path.basename(__file__).split(\".\")[0]\n",
    "    log_file = \".\".join([current_file, \"log\"])\n",
    "\n",
    "    file_handler = logging.FileHandler(log_file, mode=\"a\")\n",
    "    # file_handler.setLevel(logging.ERROR)  #file specifically for error logs\n",
    "    file_handler.setFormatter(formatter)\n",
    "\n",
    "    # stream_handler = logging.StreamHandler()  #output all logs to console\n",
    "\n",
    "    logger.addHandler(file_handler)\n",
    "    # logger.addHandler(stream_handler)\n",
    "    return logger\n",
    "\n",
    "logger = logger()\n",
    "logger.info(\"The log level is {}\".format(logger.level))"
   ]
  },
  {
   "cell_type": "markdown",
   "metadata": {},
   "source": [
    "#### Decorator method"
   ]
  },
  {
   "cell_type": "code",
   "execution_count": null,
   "metadata": {},
   "outputs": [],
   "source": [
    "def my_logger(orig_func):\n",
    "    logging.basicConfig(filename='jobsplus.log', level=logging.INFO)\n",
    "\n",
    "    def wrapper(*args, **kwargs):\n",
    "        logging.info(\"Successfully entered {}\".format(orig_func.__name__))\n",
    "        return orig_func(*args, **kwargs)\n",
    "\n",
    "    return wrapper\n",
    "\n",
    "@my_logger\n",
    "def catchEverythingInLog():\n",
    "    \"\"\"\"A function with error handling\"\"\"\n",
    "    try:\n",
    "        term = \"hello\"\n",
    "        match = re.search(r'bye', term).group(1)\n",
    "    except Exception as e:\n",
    "        # logger.info(e, exc_info=True)\n",
    "        pass\n",
    "        # logger.exception(\"An error has occurred\")\n",
    "    else:  #executes if try block is successful\n",
    "        print(match)\n",
    "    # finally:  #always executes\n",
    "        # logger.info(\"It's ready\")\n",
    "\n",
    "catchEverythingInLog()"
   ]
  }
 ],
 "metadata": {
  "kernelspec": {
   "display_name": "Python 3",
   "language": "python",
   "name": "python3"
  },
  "language_info": {
   "codemirror_mode": {
    "name": "ipython",
    "version": 3
   },
   "file_extension": ".py",
   "mimetype": "text/x-python",
   "name": "python",
   "nbconvert_exporter": "python",
   "pygments_lexer": "ipython3",
   "version": "3.6.8"
  },
  "toc": {
   "base_numbering": 1,
   "nav_menu": {},
   "number_sections": true,
   "sideBar": true,
   "skip_h1_title": false,
   "title_cell": "Table of Contents",
   "title_sidebar": "Contents",
   "toc_cell": false,
   "toc_position": {
    "height": "calc(100% - 180px)",
    "left": "10px",
    "top": "150px",
    "width": "384px"
   },
   "toc_section_display": true,
   "toc_window_display": false
  }
 },
 "nbformat": 4,
 "nbformat_minor": 4
}
